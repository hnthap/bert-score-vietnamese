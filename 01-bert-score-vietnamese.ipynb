{
 "cells": [
  {
   "cell_type": "code",
   "execution_count": 1,
   "metadata": {},
   "outputs": [
    {
     "name": "stdout",
     "output_type": "stream",
     "text": [
      "device: cuda\n",
      "device name: NVIDIA GeForce RTX 3050 Laptop GPU\n",
      "garbage collector collected 56 objects\n"
     ]
    }
   ],
   "source": [
    "import gc\n",
    "import os\n",
    "import time\n",
    "\n",
    "import polars as pl\n",
    "import torch\n",
    "\n",
    "# import warnings\n",
    "# warnings.filterwarnings('ignore')\n",
    "\n",
    "device = torch.device('cuda' if torch.cuda.is_available() else 'cpu')\n",
    "print('device:', device)\n",
    "if torch.cuda.is_available():\n",
    "    print('device name:', torch.cuda.get_device_name(device))\n",
    "\n",
    "EVAL_BATCH_SIZE = 128\n",
    "\n",
    "def collect(*, verbose=True):\n",
    "    if verbose:\n",
    "        print('garbage collector collected %d objects' % gc.collect())\n",
    "    else:\n",
    "        gc.collect()\n",
    "    if torch.cuda.is_available():\n",
    "        torch.cuda.empty_cache()\n",
    "        torch.cuda.reset_peak_memory_stats()\n",
    "\n",
    "collect()"
   ]
  },
  {
   "cell_type": "code",
   "execution_count": 2,
   "metadata": {},
   "outputs": [
    {
     "name": "stdout",
     "output_type": "stream",
     "text": [
      "5946 rows\n"
     ]
    },
    {
     "data": {
      "text/html": [
       "<div><style>\n",
       ".dataframe > thead > tr,\n",
       ".dataframe > tbody > tr {\n",
       "  text-align: right;\n",
       "  white-space: pre-wrap;\n",
       "}\n",
       "</style>\n",
       "<small>shape: (3, 8)</small><table border=\"1\" class=\"dataframe\"><thead><tr><th>pair_id</th><th>summary_id</th><th>article_id</th><th>summary</th><th>article</th><th>simhash_distance</th><th>summary_title</th><th>article_title</th></tr><tr><td>u32</td><td>i32</td><td>i32</td><td>str</td><td>str</td><td>i64</td><td>str</td><td>str</td></tr></thead><tbody><tr><td>1093692</td><td>43423102</td><td>43422899</td><td>&quot;Tại phiên họp thứ 14 ngày 11/8…</td><td>&quot;100% Ủy viên Ủy ban Thường vụ …</td><td>16</td><td>&quot;Quốc hội thông qua việc thành …</td><td>&quot;Thành lập thị xã Chơn Thành th…</td></tr><tr><td>1718596</td><td>43370015</td><td>43360018</td><td>&quot;Tập đoàn Điện lực Việt Nam (EV…</td><td>&quot;Theo thông tin từ Tập đoàn Điệ…</td><td>17</td><td>&quot;Xuất hiện trang web giả mạo th…</td><td>&quot;Xuất hiện trang web giả mạo th…</td></tr><tr><td>1258448</td><td>44012345</td><td>44017658</td><td>&quot;Mưa lớn vừa qua khiến hàng tấn…</td><td>&quot;Trận mưa lớn, liên tục trong c…</td><td>14</td><td>&quot;Cảnh tan hoang ở nghĩa trang l…</td><td>&quot;Xót xa cảnh nghìn ngôi mộ tại …</td></tr></tbody></table></div>"
      ],
      "text/plain": [
       "shape: (3, 8)\n",
       "┌─────────┬────────────┬────────────┬────────────┬────────────┬────────────┬───────────┬───────────┐\n",
       "│ pair_id ┆ summary_id ┆ article_id ┆ summary    ┆ article    ┆ simhash_di ┆ summary_t ┆ article_t │\n",
       "│ ---     ┆ ---        ┆ ---        ┆ ---        ┆ ---        ┆ stance     ┆ itle      ┆ itle      │\n",
       "│ u32     ┆ i32        ┆ i32        ┆ str        ┆ str        ┆ ---        ┆ ---       ┆ ---       │\n",
       "│         ┆            ┆            ┆            ┆            ┆ i64        ┆ str       ┆ str       │\n",
       "╞═════════╪════════════╪════════════╪════════════╪════════════╪════════════╪═══════════╪═══════════╡\n",
       "│ 1093692 ┆ 43423102   ┆ 43422899   ┆ Tại phiên  ┆ 100% Ủy    ┆ 16         ┆ Quốc hội  ┆ Thành lập │\n",
       "│         ┆            ┆            ┆ họp thứ 14 ┆ viên Ủy    ┆            ┆ thông qua ┆ thị xã    │\n",
       "│         ┆            ┆            ┆ ngày 11/8… ┆ ban Thường ┆            ┆ việc      ┆ Chơn      │\n",
       "│         ┆            ┆            ┆            ┆ vụ …       ┆            ┆ thành …   ┆ Thành th… │\n",
       "│ 1718596 ┆ 43370015   ┆ 43360018   ┆ Tập đoàn   ┆ Theo thông ┆ 17         ┆ Xuất hiện ┆ Xuất hiện │\n",
       "│         ┆            ┆            ┆ Điện lực   ┆ tin từ Tập ┆            ┆ trang web ┆ trang web │\n",
       "│         ┆            ┆            ┆ Việt Nam   ┆ đoàn Điệ…  ┆            ┆ giả mạo   ┆ giả mạo   │\n",
       "│         ┆            ┆            ┆ (EV…       ┆            ┆            ┆ th…       ┆ th…       │\n",
       "│ 1258448 ┆ 44012345   ┆ 44017658   ┆ Mưa lớn    ┆ Trận mưa   ┆ 14         ┆ Cảnh tan  ┆ Xót xa    │\n",
       "│         ┆            ┆            ┆ vừa qua    ┆ lớn, liên  ┆            ┆ hoang ở   ┆ cảnh      │\n",
       "│         ┆            ┆            ┆ khiến hàng ┆ tục trong  ┆            ┆ nghĩa     ┆ nghìn     │\n",
       "│         ┆            ┆            ┆ tấn…       ┆ c…         ┆            ┆ trang l…  ┆ ngôi mộ   │\n",
       "│         ┆            ┆            ┆            ┆            ┆            ┆           ┆ tại …     │\n",
       "└─────────┴────────────┴────────────┴────────────┴────────────┴────────────┴───────────┴───────────┘"
      ]
     },
     "execution_count": 2,
     "metadata": {},
     "output_type": "execute_result"
    }
   ],
   "source": [
    "news = pl.read_parquet('private-data/filtered_pairs_2022.parquet')\n",
    "\n",
    "print(len(news), 'rows')\n",
    "\n",
    "news.head(3)"
   ]
  },
  {
   "cell_type": "code",
   "execution_count": 3,
   "metadata": {},
   "outputs": [
    {
     "name": "stdout",
     "output_type": "stream",
     "text": [
      "garbage collector collected 0 objects\n",
      "Calculating BERTScore using bert-base-multilingual-cased\n",
      "Time taken: 5.0908 seconds\n",
      "Calculating BERTScore using facebook/mbart-large-50-many-to-many-mmt\n",
      "Time taken: 22.5666 seconds\n"
     ]
    },
    {
     "data": {
      "text/html": [
       "<div><style>\n",
       ".dataframe > thead > tr,\n",
       ".dataframe > tbody > tr {\n",
       "  text-align: right;\n",
       "  white-space: pre-wrap;\n",
       "}\n",
       "</style>\n",
       "<small>shape: (3, 7)</small><table border=\"1\" class=\"dataframe\"><thead><tr><th>pair_id</th><th>summary</th><th>article</th><th>bs_p_0</th><th>bs_r_0</th><th>bs_p_1</th><th>bs_r_1</th></tr><tr><td>u32</td><td>str</td><td>str</td><td>f64</td><td>f64</td><td>f64</td><td>f64</td></tr></thead><tbody><tr><td>1144795</td><td>&quot;Khi đang lẩn trốn tại một địa …</td><td>&quot;Sau hai ngày trốn khỏi trại gi…</td><td>0.799396</td><td>0.691559</td><td>0.990648</td><td>0.987232</td></tr><tr><td>1796272</td><td>&quot;Cơ quan công an đang điều tra …</td><td>&quot;Nguyên nhân vụ việc ban đầu đư…</td><td>0.783248</td><td>0.624593</td><td>0.986422</td><td>0.973143</td></tr><tr><td>1359180</td><td>&quot;Sáng 5/12, Bộ Chính trị, Ban B…</td><td>&quot;Sáng 5-12, Bộ Chính trị, Ban B…</td><td>0.800523</td><td>0.608533</td><td>0.981096</td><td>0.985774</td></tr></tbody></table></div>"
      ],
      "text/plain": [
       "shape: (3, 7)\n",
       "┌─────────┬──────────────────────┬─────────────────────┬──────────┬──────────┬──────────┬──────────┐\n",
       "│ pair_id ┆ summary              ┆ article             ┆ bs_p_0   ┆ bs_r_0   ┆ bs_p_1   ┆ bs_r_1   │\n",
       "│ ---     ┆ ---                  ┆ ---                 ┆ ---      ┆ ---      ┆ ---      ┆ ---      │\n",
       "│ u32     ┆ str                  ┆ str                 ┆ f64      ┆ f64      ┆ f64      ┆ f64      │\n",
       "╞═════════╪══════════════════════╪═════════════════════╪══════════╪══════════╪══════════╪══════════╡\n",
       "│ 1144795 ┆ Khi đang lẩn trốn    ┆ Sau hai ngày trốn   ┆ 0.799396 ┆ 0.691559 ┆ 0.990648 ┆ 0.987232 │\n",
       "│         ┆ tại một địa …        ┆ khỏi trại gi…       ┆          ┆          ┆          ┆          │\n",
       "│ 1796272 ┆ Cơ quan công an đang ┆ Nguyên nhân vụ việc ┆ 0.783248 ┆ 0.624593 ┆ 0.986422 ┆ 0.973143 │\n",
       "│         ┆ điều tra …           ┆ ban đầu đư…         ┆          ┆          ┆          ┆          │\n",
       "│ 1359180 ┆ Sáng 5/12, Bộ Chính  ┆ Sáng 5-12, Bộ Chính ┆ 0.800523 ┆ 0.608533 ┆ 0.981096 ┆ 0.985774 │\n",
       "│         ┆ trị, Ban B…          ┆ trị, Ban B…         ┆          ┆          ┆          ┆          │\n",
       "└─────────┴──────────────────────┴─────────────────────┴──────────┴──────────┴──────────┴──────────┘"
      ]
     },
     "execution_count": 3,
     "metadata": {},
     "output_type": "execute_result"
    }
   ],
   "source": [
    "from bert_score import score as bert_score\n",
    "\n",
    "collect()\n",
    "\n",
    "samples = news.sample(3, seed=2025).select('pair_id', 'summary', 'article')\n",
    "\n",
    "for i, model_name in enumerate([\n",
    "    'bert-base-multilingual-cased',\n",
    "    'facebook/mbart-large-50-many-to-many-mmt',\n",
    "]):\n",
    "    print('Calculating BERTScore using %s' % model_name)\n",
    "    now_ns = time.time_ns()\n",
    "    precisions, recalls, _ = bert_score(\n",
    "        samples.select('summary').to_series().to_list(),\n",
    "        samples.select('article').to_series().to_list(),\n",
    "        model_type=model_name,\n",
    "        lang='vi',\n",
    "        use_fast_tokenizer=True,\n",
    "        idf=False, \n",
    "        batch_size=min(EVAL_BATCH_SIZE, len(samples)),\n",
    "        verbose=False, \n",
    "        device=device,\n",
    "    )\n",
    "    delta_s =  round(time.time_ns() - now_ns) / 1_000_000_000\n",
    "    print('Time taken: %.4f seconds' % delta_s)\n",
    "    bs = {\n",
    "        'bs_p': precisions.tolist(),\n",
    "        'bs_r': recalls.tolist(),\n",
    "    }\n",
    "    for score_name, score_values in bs.items():\n",
    "        samples = samples.with_columns(\n",
    "            pl\n",
    "            .Series(score_values)\n",
    "            .alias(score_name + '_' + str(i))\n",
    "        )\n",
    "\n",
    "samples"
   ]
  }
 ],
 "metadata": {
  "kernelspec": {
   "display_name": "bert-score",
   "language": "python",
   "name": "python3"
  },
  "language_info": {
   "codemirror_mode": {
    "name": "ipython",
    "version": 3
   },
   "file_extension": ".py",
   "mimetype": "text/x-python",
   "name": "python",
   "nbconvert_exporter": "python",
   "pygments_lexer": "ipython3",
   "version": "3.10.16"
  }
 },
 "nbformat": 4,
 "nbformat_minor": 2
}
